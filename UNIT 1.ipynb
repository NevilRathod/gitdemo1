{
 "cells": [
  {
   "cell_type": "markdown",
   "metadata": {},
   "source": [
    "# Fundamentals"
   ]
  },
  {
   "cell_type": "code",
   "execution_count": 1,
   "metadata": {},
   "outputs": [
    {
     "name": "stdout",
     "output_type": "stream",
     "text": [
      "\\\n"
     ]
    }
   ],
   "source": [
    "print(\"\\\\\")"
   ]
  },
  {
   "cell_type": "code",
   "execution_count": 2,
   "metadata": {},
   "outputs": [
    {
     "name": "stdout",
     "output_type": "stream",
     "text": [
      "'\n"
     ]
    }
   ],
   "source": [
    "print(\"\\'\")"
   ]
  },
  {
   "cell_type": "code",
   "execution_count": 13,
   "metadata": {},
   "outputs": [
    {
     "name": "stdout",
     "output_type": "stream",
     "text": [
      "†\n"
     ]
    }
   ],
   "source": [
    "print(u\"\\N{dagger}\")"
   ]
  },
  {
   "cell_type": "code",
   "execution_count": 2,
   "metadata": {},
   "outputs": [
    {
     "name": "stdout",
     "output_type": "stream",
     "text": [
      "\u0000b\n"
     ]
    }
   ],
   "source": [
    "print(u\"\\0b\")\n"
   ]
  },
  {
   "cell_type": "code",
   "execution_count": 4,
   "metadata": {},
   "outputs": [
    {
     "name": "stdout",
     "output_type": "stream",
     "text": [
      "('dfg', 'e', 'wer', 'tt')\n",
      "[12, 12, 42, 12, 'wrrw']\n"
     ]
    }
   ],
   "source": [
    "l=[12,12,42,12,\"wrrw\"]\n",
    "f=(\"dfg\",\"e\",\"wer\",\"tt\")\n",
    "print(f,l,sep=\"\\n\")\n"
   ]
  },
  {
   "cell_type": "code",
   "execution_count": 8,
   "metadata": {},
   "outputs": [
    {
     "name": "stdout",
     "output_type": "stream",
     "text": [
      "[12, 12, 42, 12, 'wrrw', 12, 12, 42, 12, 'wrrw']\n"
     ]
    }
   ],
   "source": [
    "print(l+l)"
   ]
  },
  {
   "cell_type": "code",
   "execution_count": 66,
   "metadata": {},
   "outputs": [
    {
     "data": {
      "text/plain": [
       "[12, 12, 42, 12, 12]"
      ]
     },
     "execution_count": 66,
     "metadata": {},
     "output_type": "execute_result"
    }
   ],
   "source": [
    "l[4]= 12\n",
    "l"
   ]
  },
  {
   "cell_type": "code",
   "execution_count": 24,
   "metadata": {},
   "outputs": [
    {
     "name": "stdout",
     "output_type": "stream",
     "text": [
      "r\n"
     ]
    }
   ],
   "source": [
    "print(l[4][1])"
   ]
  },
  {
   "cell_type": "code",
   "execution_count": 25,
   "metadata": {},
   "outputs": [
    {
     "name": "stdout",
     "output_type": "stream",
     "text": [
      "144\n"
     ]
    }
   ],
   "source": [
    "print(l[3]*l[1])"
   ]
  },
  {
   "cell_type": "markdown",
   "metadata": {},
   "source": [
    "# Python Calculator"
   ]
  },
  {
   "cell_type": "code",
   "execution_count": 26,
   "metadata": {},
   "outputs": [
    {
     "name": "stdout",
     "output_type": "stream",
     "text": [
      "Select an operation: 1/2/3/4:\n",
      "1. Addition\n",
      "2. Subtraction\n",
      "3. Multiplication\n",
      "4. Division\n",
      "Enter choice from 1/2/3/4 : 1\n",
      "Enter First Number :12\n",
      "Enter Second Number :12\n",
      "12 + 12 = 24\n"
     ]
    }
   ],
   "source": [
    "#define method for subtraction\n",
    "\n",
    "def sub(x,y):\n",
    "    return x-y\n",
    "\n",
    "#define method for addition\n",
    "\n",
    "def add(x,y):\n",
    "    return x+y\n",
    "\n",
    "#define method for multiplication\n",
    "\n",
    "def mul(x,y):\n",
    "    return x*y\n",
    "\n",
    "#define method for division\n",
    "\n",
    "def div(x,y):\n",
    "    return x/y\n",
    "\n",
    "#print message for user to select operation\n",
    "\n",
    "print(\"Select an operation: 1/2/3/4:\")\n",
    "print (\"1. Addition\",\"2. Subtraction\",\"3. Multiplication\",\"4. Division\",sep=\"\\n\")\n",
    "\n",
    "choice =input(\"Enter choice from 1/2/3/4 : \")\n",
    "\n",
    "if choice in ('1','2','3','4'):\n",
    "    num1=int(input(\"Enter First Number :\"))\n",
    "    num2=int(input(\"Enter Second Number :\"))\n",
    "    \n",
    "    if choice == '1':\n",
    "        print(num1,'+',num2, '=', add(num1,num2))\n",
    "        \n",
    "    elif choice == '2':\n",
    "        print(num1,'-',num2, '=', sub(num1,num2))\n",
    "        \n",
    "    elif choice == '3':\n",
    "        print(num1,'*',num2, '=', mul(num1,num2))\n",
    "    \n",
    "    elif choice == '4':\n",
    "        print(num1,'/',num2 ,'=', div(num1,num2))\n",
    "    \n",
    "    "
   ]
  },
  {
   "cell_type": "code",
   "execution_count": null,
   "metadata": {},
   "outputs": [],
   "source": []
  }
 ],
 "metadata": {
  "kernelspec": {
   "display_name": "Python 3",
   "language": "python",
   "name": "python3"
  },
  "language_info": {
   "codemirror_mode": {
    "name": "ipython",
    "version": 3
   },
   "file_extension": ".py",
   "mimetype": "text/x-python",
   "name": "python",
   "nbconvert_exporter": "python",
   "pygments_lexer": "ipython3",
   "version": "3.8.5"
  }
 },
 "nbformat": 4,
 "nbformat_minor": 4
}
